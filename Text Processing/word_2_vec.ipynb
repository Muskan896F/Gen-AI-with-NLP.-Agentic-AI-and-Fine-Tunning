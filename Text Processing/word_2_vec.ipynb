{
 "cells": [
  {
   "cell_type": "code",
   "execution_count": 2,
   "id": "a371c248",
   "metadata": {},
   "outputs": [],
   "source": [
    "import nltk\n",
    "import gensim\n",
    "import string\n",
    "import matplotlib.pyplot as plt\n",
    "from gensim.models import Word2Vec\n",
    "from nltk.tokenize import word_tokenize\n",
    "from nltk.corpus import stopwords\n",
    "import numpy as np\n",
    "import re"
   ]
  },
  {
   "cell_type": "code",
   "execution_count": 3,
   "id": "4b7e0b34",
   "metadata": {},
   "outputs": [
    {
     "name": "stderr",
     "output_type": "stream",
     "text": [
      "[nltk_data] Downloading package punkt to\n",
      "[nltk_data]     C:\\Users\\HP\\AppData\\Roaming\\nltk_data...\n",
      "[nltk_data]   Package punkt is already up-to-date!\n",
      "[nltk_data] Downloading package stopwords to\n",
      "[nltk_data]     C:\\Users\\HP\\AppData\\Roaming\\nltk_data...\n",
      "[nltk_data]   Package stopwords is already up-to-date!\n"
     ]
    },
    {
     "data": {
      "text/plain": [
       "True"
      ]
     },
     "execution_count": 3,
     "metadata": {},
     "output_type": "execute_result"
    }
   ],
   "source": [
    "nltk.download('punkt')\n",
    "nltk.download('stopwords')"
   ]
  },
  {
   "cell_type": "code",
   "execution_count": 7,
   "id": "3fe50580",
   "metadata": {},
   "outputs": [],
   "source": [
    "corpus = [\n",
    "    \"The children are playing in the gardens.\",\n",
    "    \"Their mothers were talking and watching them closely.\",\n",
    "    \"He studies various subjects to improve his knowledge.\",\n",
    "    \"The dogs barked loudly at the strangers passing by.\",\n",
    "    \"Running and jogging are great exercises for health.\",\n",
    "    \"ghjvkjfj ###!$ %$#$%^^ 2586666\",\n",
    "    \"my phone number is 1234567890\",\n",
    "    \"I am learning Python programming.\",\n",
    "    \"The weather is nice today.\",\n",
    "    \"She loves to read books and write stories.\",\n",
    "    \"He is a talented musician.\",\n",
    "    \"The sun is shining brightly .\",\n",
    "]"
   ]
  },
  {
   "cell_type": "code",
   "execution_count": 10,
   "id": "bd07083b",
   "metadata": {},
   "outputs": [],
   "source": [
    "s = \"My name is muskan  23556663 .\""
   ]
  },
  {
   "cell_type": "code",
   "execution_count": 12,
   "id": "d81b0632",
   "metadata": {},
   "outputs": [
    {
     "data": {
      "text/plain": [
       "'my name is muskan  23556663 .'"
      ]
     },
     "execution_count": 12,
     "metadata": {},
     "output_type": "execute_result"
    }
   ],
   "source": [
    "s.lower()"
   ]
  },
  {
   "cell_type": "code",
   "execution_count": 14,
   "id": "5a11aa08",
   "metadata": {},
   "outputs": [
    {
     "data": {
      "text/plain": [
       "'My name is muskan   .'"
      ]
     },
     "execution_count": 14,
     "metadata": {},
     "output_type": "execute_result"
    }
   ],
   "source": [
    "re.sub(r'\\d+',\"\",s )"
   ]
  },
  {
   "cell_type": "code",
   "execution_count": 15,
   "id": "4044d866",
   "metadata": {},
   "outputs": [
    {
     "data": {
      "text/plain": [
       "'!\"#$%&\\'()*+,-./:;<=>?@[\\\\]^_`{|}~'"
      ]
     },
     "execution_count": 15,
     "metadata": {},
     "output_type": "execute_result"
    }
   ],
   "source": [
    "string.punctuation"
   ]
  },
  {
   "cell_type": "code",
   "execution_count": 16,
   "id": "4cae7f16",
   "metadata": {},
   "outputs": [
    {
     "data": {
      "text/plain": [
       "'My name is muskan  23556663 '"
      ]
     },
     "execution_count": 16,
     "metadata": {},
     "output_type": "execute_result"
    }
   ],
   "source": [
    "s.translate(str.maketrans(\"\",\"\",string.punctuation))"
   ]
  },
  {
   "cell_type": "code",
   "execution_count": 17,
   "id": "193d8a5c",
   "metadata": {},
   "outputs": [
    {
     "data": {
      "text/plain": [
       "['My', 'name', 'is', 'muskan', '23556663', '.']"
      ]
     },
     "execution_count": 17,
     "metadata": {},
     "output_type": "execute_result"
    }
   ],
   "source": [
    "word_tokenize(s)"
   ]
  },
  {
   "cell_type": "code",
   "execution_count": 19,
   "id": "1c9d8a4d",
   "metadata": {},
   "outputs": [],
   "source": [
    "s1 = ['My', 'name', 'is', 'muskan', '23556663', '.']"
   ]
  },
  {
   "cell_type": "code",
   "execution_count": 20,
   "id": "edfa28d5",
   "metadata": {},
   "outputs": [
    {
     "data": {
      "text/plain": [
       "['My', 'name', 'muskan', '23556663', '.']"
      ]
     },
     "execution_count": 20,
     "metadata": {},
     "output_type": "execute_result"
    }
   ],
   "source": [
    "[i for i in s1 if i not in stopwords.words('english')]"
   ]
  },
  {
   "cell_type": "code",
   "execution_count": 21,
   "id": "61a5ffa2",
   "metadata": {},
   "outputs": [],
   "source": [
    "def word_preprocessing(text):\n",
    "    text = text.lower()\n",
    "    text = re.sub(r'\\d+', \"\", text)\n",
    "    text = text.translate(str.maketrans(\"\", \"\", string.punctuation))\n",
    "    word = word_tokenize(text)\n",
    "    word  = [i for i in word if i not in stopwords.words('english')]\n",
    "    return word"
   ]
  },
  {
   "cell_type": "code",
   "execution_count": 22,
   "id": "a5b34cf8",
   "metadata": {},
   "outputs": [
    {
     "data": {
      "text/plain": [
       "['The children are playing in the gardens.',\n",
       " 'Their mothers were talking and watching them closely.',\n",
       " 'He studies various subjects to improve his knowledge.',\n",
       " 'The dogs barked loudly at the strangers passing by.',\n",
       " 'Running and jogging are great exercises for health.',\n",
       " 'ghjvkjfj ###!$ %$#$%^^ 2586666',\n",
       " 'my phone number is 1234567890',\n",
       " 'I am learning Python programming.',\n",
       " 'The weather is nice today.',\n",
       " 'She loves to read books and write stories.',\n",
       " 'He is a talented musician.',\n",
       " 'The sun is shining brightly .']"
      ]
     },
     "execution_count": 22,
     "metadata": {},
     "output_type": "execute_result"
    }
   ],
   "source": [
    "corpus"
   ]
  },
  {
   "cell_type": "code",
   "execution_count": 26,
   "id": "cfc170b5",
   "metadata": {},
   "outputs": [],
   "source": [
    "processed_corpus = [word_preprocessing(text) for text in corpus]"
   ]
  },
  {
   "cell_type": "code",
   "execution_count": 27,
   "id": "7248451d",
   "metadata": {},
   "outputs": [
    {
     "data": {
      "text/plain": [
       "[['children', 'playing', 'gardens'],\n",
       " ['mothers', 'talking', 'watching', 'closely'],\n",
       " ['studies', 'various', 'subjects', 'improve', 'knowledge'],\n",
       " ['dogs', 'barked', 'loudly', 'strangers', 'passing'],\n",
       " ['running', 'jogging', 'great', 'exercises', 'health'],\n",
       " ['ghjvkjfj'],\n",
       " ['phone', 'number'],\n",
       " ['learning', 'python', 'programming'],\n",
       " ['weather', 'nice', 'today'],\n",
       " ['loves', 'read', 'books', 'write', 'stories'],\n",
       " ['talented', 'musician'],\n",
       " ['sun', 'shining', 'brightly']]"
      ]
     },
     "execution_count": 27,
     "metadata": {},
     "output_type": "execute_result"
    }
   ],
   "source": [
    "processed_corpus "
   ]
  },
  {
   "cell_type": "code",
   "execution_count": 28,
   "id": "de9331a7",
   "metadata": {},
   "outputs": [],
   "source": [
    "word2vec_cbow = Word2Vec(sentences=processed_corpus, vector_size=100, window=5, min_count=1, sg=0)\n",
    "word2vec_skipgram = Word2Vec(sentences=processed_corpus, vector_size=100, window=5, min_count=1, sg=1)"
   ]
  },
  {
   "cell_type": "code",
   "execution_count": 29,
   "id": "37e3ca52",
   "metadata": {},
   "outputs": [
    {
     "data": {
      "text/plain": [
       "<gensim.models.word2vec.Word2Vec at 0x1ed07cd1d20>"
      ]
     },
     "execution_count": 29,
     "metadata": {},
     "output_type": "execute_result"
    }
   ],
   "source": [
    "word2vec_cbow"
   ]
  },
  {
   "cell_type": "code",
   "execution_count": 30,
   "id": "7119e57d",
   "metadata": {},
   "outputs": [
    {
     "data": {
      "text/plain": [
       "<gensim.models.word2vec.Word2Vec at 0x1ed07c33c40>"
      ]
     },
     "execution_count": 30,
     "metadata": {},
     "output_type": "execute_result"
    }
   ],
   "source": [
    "word2vec_skipgram"
   ]
  },
  {
   "cell_type": "code",
   "execution_count": 32,
   "id": "dd85e7da",
   "metadata": {},
   "outputs": [
    {
     "data": {
      "text/plain": [
       "array([ 0.00973555, -0.00978038, -0.00649949,  0.00278379,  0.00643199,\n",
       "       -0.00536737,  0.00275249,  0.00912131, -0.00681542, -0.00609991,\n",
       "       -0.00498964, -0.00367641,  0.00184972,  0.00968263,  0.00643778,\n",
       "        0.00039709,  0.00247077,  0.00844049,  0.00912898,  0.00562875,\n",
       "        0.00594626, -0.00762069, -0.00382767, -0.00568033,  0.00618177,\n",
       "       -0.00225645, -0.00877944,  0.00761912,  0.00839968, -0.00332024,\n",
       "        0.00911666, -0.00073836, -0.00362652, -0.00038469,  0.00019443,\n",
       "       -0.0035049 ,  0.00281324,  0.00572971,  0.00686901, -0.00890347,\n",
       "       -0.00219273, -0.0054818 ,  0.0075211 ,  0.0065017 , -0.00436072,\n",
       "        0.00232683, -0.00595366,  0.0002365 ,  0.00946176, -0.00260984,\n",
       "       -0.00518772, -0.00739721, -0.00291194, -0.00086431,  0.00352786,\n",
       "        0.00974189, -0.00338928,  0.00190177,  0.00968101,  0.00153159,\n",
       "        0.0009865 ,  0.00980237,  0.00929546,  0.00770807, -0.00617053,\n",
       "        0.00998399,  0.00584899,  0.00907267, -0.0019952 ,  0.00334994,\n",
       "        0.00683356, -0.00389376,  0.00664285,  0.00256286,  0.00931373,\n",
       "       -0.0030358 , -0.00310937,  0.00621539, -0.00907825, -0.00725399,\n",
       "       -0.00650003, -0.00074907, -0.00236302,  0.00681552,  0.00923659,\n",
       "       -0.00090976,  0.00141282,  0.00202036, -0.0020198 , -0.00803434,\n",
       "        0.00744105, -0.0042979 ,  0.00457652,  0.0090897 ,  0.00304322,\n",
       "        0.00313879,  0.00406183, -0.00270122,  0.00382477,  0.00033762],\n",
       "      dtype=float32)"
      ]
     },
     "execution_count": 32,
     "metadata": {},
     "output_type": "execute_result"
    }
   ],
   "source": [
    "word2vec_skipgram.wv['playing']"
   ]
  },
  {
   "cell_type": "code",
   "execution_count": 33,
   "id": "9c518173",
   "metadata": {},
   "outputs": [
    {
     "data": {
      "text/plain": [
       "100"
      ]
     },
     "execution_count": 33,
     "metadata": {},
     "output_type": "execute_result"
    }
   ],
   "source": [
    "word2vec_skipgram.vector_size"
   ]
  },
  {
   "cell_type": "code",
   "execution_count": 34,
   "id": "57ccf3d2",
   "metadata": {},
   "outputs": [
    {
     "data": {
      "text/plain": [
       "100"
      ]
     },
     "execution_count": 34,
     "metadata": {},
     "output_type": "execute_result"
    }
   ],
   "source": [
    "len(word2vec_skipgram.wv['playing'])"
   ]
  },
  {
   "cell_type": "code",
   "execution_count": 35,
   "id": "64f482f5",
   "metadata": {},
   "outputs": [
    {
     "data": {
      "text/plain": [
       "[('great', 0.1592574417591095),\n",
       " ('nice', 0.15621212124824524),\n",
       " ('running', 0.1528114527463913),\n",
       " ('programming', 0.14474642276763916),\n",
       " ('closely', 0.14256368577480316),\n",
       " ('various', 0.13264012336730957),\n",
       " ('gardens', 0.11936754733324051),\n",
       " ('read', 0.0959688201546669),\n",
       " ('dogs', 0.07913301885128021),\n",
       " ('barked', 0.07480262964963913)]"
      ]
     },
     "execution_count": 35,
     "metadata": {},
     "output_type": "execute_result"
    }
   ],
   "source": [
    "word2vec_skipgram.wv.most_similar('playing')"
   ]
  },
  {
   "cell_type": "code",
   "execution_count": 36,
   "id": "32cec1c1",
   "metadata": {},
   "outputs": [
    {
     "data": {
      "text/plain": [
       "[('great', 0.1592574417591095),\n",
       " ('nice', 0.15621212124824524),\n",
       " ('running', 0.1528114527463913)]"
      ]
     },
     "execution_count": 36,
     "metadata": {},
     "output_type": "execute_result"
    }
   ],
   "source": [
    "word2vec_skipgram.wv.most_similar('playing',topn=3)"
   ]
  },
  {
   "cell_type": "code",
   "execution_count": 37,
   "id": "2242e69d",
   "metadata": {},
   "outputs": [
    {
     "data": {
      "text/plain": [
       "array([ 6.4154547e-03, -8.9520868e-03, -7.3469346e-03, -1.7526997e-03,\n",
       "        1.6995452e-03, -1.0320020e-03, -5.2062995e-03,  6.5794853e-03,\n",
       "        8.7809842e-03, -7.4097263e-03,  9.8038130e-03,  7.3659159e-03,\n",
       "       -7.4588014e-03, -1.8998036e-03,  4.2526713e-03,  7.0562297e-03,\n",
       "       -3.6635681e-03, -6.9723977e-03,  4.7238315e-03, -9.0400865e-03,\n",
       "       -5.8524357e-03, -1.2835151e-03,  5.4787775e-03, -5.6867185e-03,\n",
       "        4.7861603e-03, -4.3538306e-04,  2.6688271e-03,  6.4063556e-03,\n",
       "        1.4165842e-03,  7.7080587e-03, -3.2385555e-04, -8.2640499e-03,\n",
       "        9.1765206e-03, -4.8575872e-03,  4.7202436e-03, -3.9039196e-03,\n",
       "       -7.3300153e-03, -6.5141502e-03,  4.6765730e-03, -6.5936177e-04,\n",
       "        1.4577655e-03, -8.9275399e-03, -5.1455111e-03, -6.0527441e-03,\n",
       "        8.4136371e-03, -8.6976504e-03,  5.0236350e-03, -8.6134818e-04,\n",
       "        1.8785532e-04,  8.7985899e-03, -3.5855167e-03, -6.9369832e-03,\n",
       "        7.6262630e-04,  7.7418154e-03,  9.1189090e-03, -3.6875363e-03,\n",
       "        2.7321624e-03,  4.9415408e-03, -5.2915681e-03,  6.8518007e-03,\n",
       "       -6.4514764e-03,  2.0987897e-03,  4.5899204e-03,  4.3868748e-03,\n",
       "       -4.6679084e-03,  2.6428180e-03,  7.3106303e-03,  8.6139003e-03,\n",
       "       -9.5155146e-03,  5.5760439e-03,  4.9693733e-03, -1.5916640e-03,\n",
       "        9.1868388e-03, -4.1823327e-03, -1.7492529e-03, -6.8611423e-03,\n",
       "       -3.7737247e-03,  2.4340885e-04, -3.2729448e-03, -5.4166685e-03,\n",
       "        6.5686279e-03, -5.3047086e-03, -6.3246461e-03,  7.6427148e-03,\n",
       "        9.6501447e-03,  3.9952858e-03,  2.5206398e-05,  7.8928220e-04,\n",
       "       -9.5977704e-04,  6.8641724e-03, -6.2539745e-03,  5.0959364e-04,\n",
       "        4.2940383e-03, -2.1115900e-03,  8.9610019e-04,  3.7119477e-03,\n",
       "        9.7120032e-03,  2.1760920e-03,  9.5029157e-03, -5.8310176e-03],\n",
       "      dtype=float32)"
      ]
     },
     "execution_count": 37,
     "metadata": {},
     "output_type": "execute_result"
    }
   ],
   "source": [
    "word2vec_cbow.wv['nice']"
   ]
  },
  {
   "cell_type": "code",
   "execution_count": 38,
   "id": "bc77b554",
   "metadata": {},
   "outputs": [
    {
     "data": {
      "text/plain": [
       "0.14902353"
      ]
     },
     "execution_count": 38,
     "metadata": {},
     "output_type": "execute_result"
    }
   ],
   "source": [
    "word2vec_cbow.wv.similarity(\"nice\", \"weather\")"
   ]
  },
  {
   "cell_type": "code",
   "execution_count": 39,
   "id": "b0852f26",
   "metadata": {},
   "outputs": [
    {
     "data": {
      "text/plain": [
       "['brightly',\n",
       " 'great',\n",
       " 'running',\n",
       " 'passing',\n",
       " 'strangers',\n",
       " 'loudly',\n",
       " 'barked',\n",
       " 'dogs',\n",
       " 'knowledge',\n",
       " 'improve',\n",
       " 'subjects',\n",
       " 'various',\n",
       " 'studies',\n",
       " 'closely',\n",
       " 'watching',\n",
       " 'talking',\n",
       " 'mothers',\n",
       " 'gardens',\n",
       " 'playing',\n",
       " 'jogging',\n",
       " 'exercises',\n",
       " 'shining',\n",
       " 'health',\n",
       " 'sun',\n",
       " 'musician',\n",
       " 'talented',\n",
       " 'stories',\n",
       " 'write',\n",
       " 'books',\n",
       " 'read',\n",
       " 'loves',\n",
       " 'today',\n",
       " 'nice',\n",
       " 'weather',\n",
       " 'programming',\n",
       " 'python',\n",
       " 'learning',\n",
       " 'number',\n",
       " 'phone',\n",
       " 'ghjvkjfj',\n",
       " 'children']"
      ]
     },
     "execution_count": 39,
     "metadata": {},
     "output_type": "execute_result"
    }
   ],
   "source": [
    "word2vec_cbow.wv.index_to_key"
   ]
  },
  {
   "cell_type": "code",
   "execution_count": 40,
   "id": "baea84b9",
   "metadata": {},
   "outputs": [
    {
     "data": {
      "text/plain": [
       "[('write', 0.259906530380249),\n",
       " ('python', 0.2598475217819214),\n",
       " ('sun', 0.22203128039836884),\n",
       " ('studies', 0.12152884900569916),\n",
       " ('great', 0.11792425811290741)]"
      ]
     },
     "execution_count": 40,
     "metadata": {},
     "output_type": "execute_result"
    }
   ],
   "source": [
    "word2vec_cbow.wv.most_similar('children', topn=5)"
   ]
  },
  {
   "cell_type": "code",
   "execution_count": 41,
   "id": "68f0114e",
   "metadata": {},
   "outputs": [
    {
     "data": {
      "text/plain": [
       "[('python', 0.2598475217819214),\n",
       " ('write', 0.2598419487476349),\n",
       " ('sun', 0.22203128039836884),\n",
       " ('studies', 0.1216016411781311),\n",
       " ('great', 0.11782854050397873)]"
      ]
     },
     "execution_count": 41,
     "metadata": {},
     "output_type": "execute_result"
    }
   ],
   "source": [
    "word2vec_skipgram.wv.most_similar('children', topn=5)"
   ]
  },
  {
   "cell_type": "code",
   "execution_count": null,
   "id": "37eb7576",
   "metadata": {},
   "outputs": [],
   "source": []
  }
 ],
 "metadata": {
  "kernelspec": {
   "display_name": "Python 3",
   "language": "python",
   "name": "python3"
  },
  "language_info": {
   "codemirror_mode": {
    "name": "ipython",
    "version": 3
   },
   "file_extension": ".py",
   "mimetype": "text/x-python",
   "name": "python",
   "nbconvert_exporter": "python",
   "pygments_lexer": "ipython3",
   "version": "3.10.0"
  }
 },
 "nbformat": 4,
 "nbformat_minor": 5
}
