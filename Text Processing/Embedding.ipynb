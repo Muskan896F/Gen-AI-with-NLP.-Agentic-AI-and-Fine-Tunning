{
 "cells": [
  {
   "cell_type": "code",
   "execution_count": 15,
   "id": "7c6f3182",
   "metadata": {},
   "outputs": [],
   "source": [
    "corpus = [\"i love nlp\", \"i study genai\", \"nlp is fun\", \"genai is great and useful\"]"
   ]
  },
  {
   "cell_type": "code",
   "execution_count": 16,
   "id": "dd320ed3",
   "metadata": {},
   "outputs": [
    {
     "data": {
      "text/plain": [
       "['i',\n",
       " 'love',\n",
       " 'nlp',\n",
       " 'i',\n",
       " 'study',\n",
       " 'genai',\n",
       " 'nlp',\n",
       " 'is',\n",
       " 'fun',\n",
       " 'genai',\n",
       " 'is',\n",
       " 'great',\n",
       " 'and',\n",
       " 'useful']"
      ]
     },
     "execution_count": 16,
     "metadata": {},
     "output_type": "execute_result"
    }
   ],
   "source": [
    "\" \".join(corpus).split()"
   ]
  },
  {
   "cell_type": "code",
   "execution_count": 17,
   "id": "d39b9605",
   "metadata": {},
   "outputs": [
    {
     "data": {
      "text/plain": [
       "{'and', 'fun', 'genai', 'great', 'i', 'is', 'love', 'nlp', 'study', 'useful'}"
      ]
     },
     "execution_count": 17,
     "metadata": {},
     "output_type": "execute_result"
    }
   ],
   "source": [
    "set(\" \".join(corpus).split())"
   ]
  },
  {
   "cell_type": "code",
   "execution_count": 18,
   "id": "4d3906c3",
   "metadata": {},
   "outputs": [],
   "source": [
    "unique_words = list(set(\" \".join(corpus).split()))"
   ]
  },
  {
   "cell_type": "code",
   "execution_count": 19,
   "id": "48230a3d",
   "metadata": {},
   "outputs": [
    {
     "data": {
      "text/plain": [
       "['is', 'great', 'and', 'nlp', 'study', 'genai', 'i', 'useful', 'fun', 'love']"
      ]
     },
     "execution_count": 19,
     "metadata": {},
     "output_type": "execute_result"
    }
   ],
   "source": [
    "unique_words"
   ]
  },
  {
   "cell_type": "code",
   "execution_count": 20,
   "id": "faab20ab",
   "metadata": {},
   "outputs": [
    {
     "name": "stdout",
     "output_type": "stream",
     "text": [
      "(0, 'is')\n",
      "(1, 'great')\n",
      "(2, 'and')\n",
      "(3, 'nlp')\n",
      "(4, 'study')\n",
      "(5, 'genai')\n",
      "(6, 'i')\n",
      "(7, 'useful')\n",
      "(8, 'fun')\n",
      "(9, 'love')\n"
     ]
    }
   ],
   "source": [
    "for i in enumerate(unique_words):\n",
    "    print(i)"
   ]
  },
  {
   "cell_type": "code",
   "execution_count": 21,
   "id": "68ccceab",
   "metadata": {},
   "outputs": [],
   "source": [
    "word_to_index = {word:i for i, word in enumerate(unique_words)}"
   ]
  },
  {
   "cell_type": "code",
   "execution_count": 22,
   "metadata": {},
   "outputs": [
    {
     "data": {
      "text/plain": [
       "{'is': 0,\n",
       " 'great': 1,\n",
       " 'and': 2,\n",
       " 'nlp': 3,\n",
       " 'study': 4,\n",
       " 'genai': 5,\n",
       " 'i': 6,\n",
       " 'useful': 7,\n",
       " 'fun': 8,\n",
       " 'love': 9}"
      ]
     },
     "execution_count": 22,
     "metadata": {},
     "output_type": "execute_result"
    }
   ],
   "source": [
    "word_to_index"
   ]
  },
  {
   "cell_type": "markdown",
   "id": "45819595",
   "metadata": {},
   "source": [
    "## **One Hot Encoding**"
   ]
  },
  {
   "cell_type": "code",
   "execution_count": 25,
   "id": "209a4950",
   "metadata": {},
   "outputs": [
    {
     "name": "stdout",
     "output_type": "stream",
     "text": [
      "i love nlp\n",
      "[0, 0, 0, 0, 0, 0, 0, 0, 0, 0]\n",
      "[0, 0, 0, 0, 0, 0, 0, 0, 0, 0]\n",
      "[0, 0, 0, 0, 0, 0, 0, 0, 0, 0]\n",
      "i study genai\n",
      "[0, 0, 0, 0, 0, 0, 0, 0, 0, 0]\n",
      "[0, 0, 0, 0, 0, 0, 0, 0, 0, 0]\n",
      "[0, 0, 0, 0, 0, 0, 0, 0, 0, 0]\n",
      "nlp is fun\n",
      "[0, 0, 0, 0, 0, 0, 0, 0, 0, 0]\n",
      "[0, 0, 0, 0, 0, 0, 0, 0, 0, 0]\n",
      "[0, 0, 0, 0, 0, 0, 0, 0, 0, 0]\n",
      "genai is great and useful\n",
      "[0, 0, 0, 0, 0, 0, 0, 0, 0, 0]\n",
      "[0, 0, 0, 0, 0, 0, 0, 0, 0, 0]\n",
      "[0, 0, 0, 0, 0, 0, 0, 0, 0, 0]\n",
      "[0, 0, 0, 0, 0, 0, 0, 0, 0, 0]\n",
      "[0, 0, 0, 0, 0, 0, 0, 0, 0, 0]\n"
     ]
    }
   ],
   "source": [
    "one_hot_vector = []\n",
    "for sentences in corpus:\n",
    "    print(sentences)\n",
    "    sentence_vector = []\n",
    "    for word in sentences.split():\n",
    "        vector = [0] * len(unique_words)\n",
    "        print(vector)\n",
    "        vector[word_to_index[word]] = 1\n",
    "        sentence_vector.append(vector)\n",
    "    one_hot_vector.append(sentence_vector)"
   ]
  },
  {
   "cell_type": "code",
   "execution_count": 26,
   "id": "35c5375f",
   "metadata": {},
   "outputs": [
    {
     "data": {
      "text/plain": [
       "[[[0, 0, 0, 0, 0, 0, 1, 0, 0, 0],\n",
       "  [0, 0, 0, 0, 0, 0, 0, 0, 0, 1],\n",
       "  [0, 0, 0, 1, 0, 0, 0, 0, 0, 0]],\n",
       " [[0, 0, 0, 0, 0, 0, 1, 0, 0, 0],\n",
       "  [0, 0, 0, 0, 1, 0, 0, 0, 0, 0],\n",
       "  [0, 0, 0, 0, 0, 1, 0, 0, 0, 0]],\n",
       " [[0, 0, 0, 1, 0, 0, 0, 0, 0, 0],\n",
       "  [1, 0, 0, 0, 0, 0, 0, 0, 0, 0],\n",
       "  [0, 0, 0, 0, 0, 0, 0, 0, 1, 0]],\n",
       " [[0, 0, 0, 0, 0, 1, 0, 0, 0, 0],\n",
       "  [1, 0, 0, 0, 0, 0, 0, 0, 0, 0],\n",
       "  [0, 1, 0, 0, 0, 0, 0, 0, 0, 0],\n",
       "  [0, 0, 1, 0, 0, 0, 0, 0, 0, 0],\n",
       "  [0, 0, 0, 0, 0, 0, 0, 1, 0, 0]]]"
      ]
     },
     "execution_count": 26,
     "metadata": {},
     "output_type": "execute_result"
    }
   ],
   "source": [
    "one_hot_vector"
   ]
  },
  {
   "cell_type": "code",
   "execution_count": 27,
   "id": "98f6c6b6",
   "metadata": {},
   "outputs": [
    {
     "data": {
      "text/plain": [
       "[[0, 0, 0, 0, 0, 0, 1, 0, 0, 0],\n",
       " [0, 0, 0, 0, 0, 0, 0, 0, 0, 1],\n",
       " [0, 0, 0, 1, 0, 0, 0, 0, 0, 0]]"
      ]
     },
     "execution_count": 27,
     "metadata": {},
     "output_type": "execute_result"
    }
   ],
   "source": [
    "one_hot_vector[0]"
   ]
  },
  {
   "cell_type": "code",
   "execution_count": 28,
   "id": "bd23adac",
   "metadata": {},
   "outputs": [
    {
     "data": {
      "text/plain": [
       "[[0, 0, 0, 0, 0, 0, 1, 0, 0, 0],\n",
       " [0, 0, 0, 0, 1, 0, 0, 0, 0, 0],\n",
       " [0, 0, 0, 0, 0, 1, 0, 0, 0, 0]]"
      ]
     },
     "execution_count": 28,
     "metadata": {},
     "output_type": "execute_result"
    }
   ],
   "source": [
    "one_hot_vector[1]"
   ]
  },
  {
   "cell_type": "markdown",
   "id": "7a7ccfc8",
   "metadata": {},
   "source": [
    "## **Bag of Words**"
   ]
  },
  {
   "cell_type": "code",
   "execution_count": 31,
   "id": "b0c66e7e",
   "metadata": {},
   "outputs": [],
   "source": [
    "from sklearn.feature_extraction.text import CountVectorizer"
   ]
  },
  {
   "cell_type": "code",
   "execution_count": 52,
   "id": "750770f8",
   "metadata": {},
   "outputs": [],
   "source": [
    "vectorizer = CountVectorizer(stop_words=None,lowercase=False,vocabulary=unique_words)"
   ]
  },
  {
   "cell_type": "code",
   "execution_count": 53,
   "id": "0fc45775",
   "metadata": {},
   "outputs": [],
   "source": [
    "corpus = [\"I love nlp\", \"I study genai\", \"nlp is fun\", \"genai is great and useful\"]"
   ]
  },
  {
   "cell_type": "code",
   "execution_count": 54,
   "id": "b4da94e3",
   "metadata": {},
   "outputs": [],
   "source": [
    "X = vectorizer.fit_transform(corpus)"
   ]
  },
  {
   "cell_type": "code",
   "execution_count": 55,
   "id": "4e9c1f27",
   "metadata": {},
   "outputs": [
    {
     "data": {
      "text/plain": [
       "array([[0, 0, 0, 1, 0, 0, 0, 0, 0, 1],\n",
       "       [0, 0, 0, 0, 1, 1, 0, 0, 0, 0],\n",
       "       [1, 0, 0, 1, 0, 0, 0, 0, 1, 0],\n",
       "       [1, 1, 1, 0, 0, 1, 0, 1, 0, 0]])"
      ]
     },
     "execution_count": 55,
     "metadata": {},
     "output_type": "execute_result"
    }
   ],
   "source": [
    "X.toarray()"
   ]
  },
  {
   "cell_type": "code",
   "execution_count": 56,
   "id": "038a9ee5",
   "metadata": {},
   "outputs": [
    {
     "data": {
      "text/plain": [
       "array(['is', 'great', 'and', 'nlp', 'study', 'genai', 'i', 'useful',\n",
       "       'fun', 'love'], dtype=object)"
      ]
     },
     "execution_count": 56,
     "metadata": {},
     "output_type": "execute_result"
    }
   ],
   "source": [
    "vectorizer.get_feature_names_out()"
   ]
  },
  {
   "cell_type": "markdown",
   "id": "d58e6e4d",
   "metadata": {},
   "source": [
    "## **TF-IDF**"
   ]
  },
  {
   "cell_type": "code",
   "execution_count": 57,
   "id": "0df0297e",
   "metadata": {},
   "outputs": [
    {
     "data": {
      "text/plain": [
       "['I love nlp', 'I study genai', 'nlp is fun', 'genai is great and useful']"
      ]
     },
     "execution_count": 57,
     "metadata": {},
     "output_type": "execute_result"
    }
   ],
   "source": [
    "corpus"
   ]
  },
  {
   "cell_type": "code",
   "execution_count": 58,
   "id": "7d770956",
   "metadata": {},
   "outputs": [],
   "source": [
    "from sklearn.feature_extraction.text import TfidfVectorizer"
   ]
  },
  {
   "cell_type": "code",
   "execution_count": 59,
   "id": "61f2a924",
   "metadata": {},
   "outputs": [],
   "source": [
    "Tfidf_vectorizer = TfidfVectorizer()"
   ]
  },
  {
   "cell_type": "code",
   "execution_count": 62,
   "id": "4fdacd3f",
   "metadata": {},
   "outputs": [],
   "source": [
    "X = Tfidf_vectorizer.fit_transform(corpus)"
   ]
  },
  {
   "cell_type": "code",
   "execution_count": 63,
   "id": "85141fbf",
   "metadata": {},
   "outputs": [
    {
     "data": {
      "text/plain": [
       "array([[0.        , 0.        , 0.        , 0.        , 0.        ,\n",
       "        0.78528828, 0.6191303 , 0.        , 0.        ],\n",
       "       [0.        , 0.        , 0.6191303 , 0.        , 0.        ,\n",
       "        0.        , 0.        , 0.78528828, 0.        ],\n",
       "       [0.        , 0.66767854, 0.        , 0.        , 0.52640543,\n",
       "        0.        , 0.52640543, 0.        , 0.        ],\n",
       "       [0.48546061, 0.        , 0.38274272, 0.48546061, 0.38274272,\n",
       "        0.        , 0.        , 0.        , 0.48546061]])"
      ]
     },
     "execution_count": 63,
     "metadata": {},
     "output_type": "execute_result"
    }
   ],
   "source": [
    "X.toarray()"
   ]
  },
  {
   "cell_type": "code",
   "execution_count": 64,
   "id": "dad00583",
   "metadata": {},
   "outputs": [
    {
     "name": "stdout",
     "output_type": "stream",
     "text": [
      "The End\n"
     ]
    }
   ],
   "source": [
    "print(\"The End\")"
   ]
  }
 ],
 "metadata": {
  "kernelspec": {
   "display_name": "Python 3",
   "language": "python",
   "name": "python3"
  },
  "language_info": {
   "codemirror_mode": {
    "name": "ipython",
    "version": 3
   },
   "file_extension": ".py",
   "mimetype": "text/x-python",
   "name": "python",
   "nbconvert_exporter": "python",
   "pygments_lexer": "ipython3",
   "version": "3.10.0"
  }
 },
 "nbformat": 4,
 "nbformat_minor": 5
}
