{
 "cells": [
  {
   "cell_type": "code",
   "execution_count": 1,
   "id": "cdba2c64",
   "metadata": {},
   "outputs": [],
   "source": [
    "input = [1,2,3,4]\n",
    "output = [2,4,6,8]"
   ]
  },
  {
   "cell_type": "code",
   "execution_count": 3,
   "id": "32a10815",
   "metadata": {},
   "outputs": [
    {
     "data": {
      "text/plain": [
       "[(1, 2), (2, 4), (3, 6), (4, 8)]"
      ]
     },
     "execution_count": 3,
     "metadata": {},
     "output_type": "execute_result"
    }
   ],
   "source": [
    "list(zip(input,output))"
   ]
  },
  {
   "cell_type": "code",
   "execution_count": 2,
   "id": "c8b3039c",
   "metadata": {},
   "outputs": [],
   "source": [
    "w = 0.0\n",
    "b = 0.0\n",
    "lr = .01"
   ]
  },
  {
   "cell_type": "code",
   "execution_count": 5,
   "id": "b10d842a",
   "metadata": {},
   "outputs": [
    {
     "name": "stdout",
     "output_type": "stream",
     "text": [
      "epoch 0 | Loss: 0.023854187494407823 | w : 1.9442274195289089, b: 0.17946616901901208\n",
      "epoch 10 | Loss: 0.018525706043194708 | w : 1.9508497412129617, b: 0.15815672461802177\n",
      "epoch 20 | Loss: 0.014387485823162629 | w : 1.9566857420182489, b: 0.13937751988928257\n",
      "epoch 30 | Loss: 0.011173649621184022 | w : 1.9618287880713154, b: 0.1228281193696005\n",
      "epoch 40 | Loss: 0.008677711129764403 | w : 1.966361159396557, b: 0.10824376068577857\n",
      "epoch 50 | Loss: 0.006739308373234746 | w : 1.970355366257221, b: 0.0953911188051613\n",
      "epoch 60 | Loss: 0.005233900583964822 | w : 1.9738753091967873, b: 0.08406457323037103\n",
      "epoch 70 | Loss: 0.00406476656145041 | w : 1.9769773013394132, b: 0.07408291841967632\n",
      "epoch 80 | Loss: 0.0031567904154895673 | w : 1.9797109693045245, b: 0.06528646480529093\n",
      "epoch 90 | Loss: 0.002451635432606691 | w : 1.982120047148658, b: 0.05753448403080762\n",
      "13.939646420150071\n"
     ]
    }
   ],
   "source": [
    "for epoch in range(100):\n",
    "    total_loss = 0\n",
    "    for x,y in zip(input,output):\n",
    "        y_pred = w*x+b\n",
    "        error = y_pred - y\n",
    "        loss = error**2\n",
    "        total_loss = total_loss + loss\n",
    "\n",
    "        dw = 2*error*x\n",
    "        db = 2*error\n",
    "\n",
    "        w = w - lr*dw\n",
    "        b = b - lr*db\n",
    "    \n",
    "    if epoch %10 == 0:\n",
    "        print(f\"epoch {epoch} | Loss: {total_loss} | w : {w}, b: {b}\")\n",
    "\n",
    "test_data = 7\n",
    "prediction = w*test_data + b\n",
    "print(prediction)"
   ]
  },
  {
   "cell_type": "code",
   "execution_count": 6,
   "id": "ae053e17",
   "metadata": {},
   "outputs": [],
   "source": [
    "input = [1,2,3,4,5]\n",
    "output = [2,4,6,8,10]"
   ]
  },
  {
   "cell_type": "code",
   "execution_count": 7,
   "id": "734d1cbf",
   "metadata": {},
   "outputs": [],
   "source": [
    "w1 , b1 = .1,0.0\n",
    "w2 , b2 = -0.1,0.0\n",
    "w3 ,w4 = .1,.1\n",
    "b3 = 0.0\n",
    "lr =0.1\n"
   ]
  },
  {
   "cell_type": "code",
   "execution_count": 8,
   "id": "2f17e589",
   "metadata": {},
   "outputs": [],
   "source": [
    "def relu():\n",
    "    return max(0,x)"
   ]
  },
  {
   "cell_type": "code",
   "execution_count": 9,
   "id": "f2795312",
   "metadata": {},
   "outputs": [],
   "source": [
    "def relu_derivative():\n",
    "    return 1 if x > 0 else 0"
   ]
  },
  {
   "cell_type": "code",
   "execution_count": 13,
   "id": "aabf1c5c",
   "metadata": {},
   "outputs": [
    {
     "name": "stdout",
     "output_type": "stream",
     "text": [
      "Epoch 0 | Loss: 30.2734\n",
      "Epoch 10 | Loss: 0.1312\n",
      "Epoch 20 | Loss: 0.0426\n",
      "Epoch 30 | Loss: 0.0137\n",
      "Epoch 40 | Loss: 0.0044\n",
      "Epoch 50 | Loss: 0.0014\n",
      "Epoch 60 | Loss: 0.0004\n",
      "Epoch 70 | Loss: 0.0001\n",
      "Epoch 80 | Loss: 0.0000\n",
      "Epoch 90 | Loss: 0.0000\n",
      "\n",
      "Prediction for input 9: 17.99863022734666\n"
     ]
    }
   ],
   "source": [
    "import random\n",
    "\n",
    "# Sample training data (you can change this)\n",
    "input = [1, 2, 3, 4, 5]\n",
    "output = [2, 4, 6, 8, 10]  # Example: y = 2*x\n",
    "\n",
    "# Learning rate\n",
    "lr = 0.01\n",
    "\n",
    "# Weight and bias initialization\n",
    "w1, w2, w3, w4 = [random.uniform(-1, 1) for _ in range(4)]\n",
    "b1 = b2 = b3 = 0\n",
    "\n",
    "# Activation function and derivative\n",
    "def relu(x):\n",
    "    return max(0, x)\n",
    "\n",
    "def relu_derivative(x):\n",
    "    return 1 if x > 0 else 0\n",
    "\n",
    "# Training loop\n",
    "for epoch in range(100):\n",
    "    total_loss = 0\n",
    "    for x, y in zip(input, output):\n",
    "        # Forward pass\n",
    "        z1 = w1 * x + b1\n",
    "        h1 = relu(z1)\n",
    "\n",
    "        z2 = w2 * x + b2\n",
    "        h2 = relu(z2)\n",
    "\n",
    "        y_pred = w3 * h1 + w4 * h2 + b3\n",
    "\n",
    "        # Loss computation\n",
    "        error = y_pred - y\n",
    "        loss = error ** 2\n",
    "        total_loss += loss\n",
    "\n",
    "        # Backward pass (manual gradients)\n",
    "        dl_dy = 2 * error\n",
    "\n",
    "        dw3 = dl_dy * h1\n",
    "        dw4 = dl_dy * h2\n",
    "        db3 = dl_dy\n",
    "\n",
    "        dh1 = dl_dy * w3\n",
    "        dh2 = dl_dy * w4\n",
    "\n",
    "        dz1 = dh1 * relu_derivative(z1)\n",
    "        dz2 = dh2 * relu_derivative(z2)\n",
    "\n",
    "        dw1 = dz1 * x\n",
    "        db1 = dz1\n",
    "\n",
    "        dw2 = dz2 * x\n",
    "        db2 = dz2\n",
    "\n",
    "        # Update weights and biases\n",
    "        w1 -= lr * dw1\n",
    "        w2 -= lr * dw2\n",
    "        w3 -= lr * dw3\n",
    "        w4 -= lr * dw4\n",
    "\n",
    "        b1 -= lr * db1\n",
    "        b2 -= lr * db2\n",
    "        b3 -= lr * db3\n",
    "\n",
    "    if epoch % 10 == 0:\n",
    "        print(f\"Epoch {epoch} | Loss: {total_loss:.4f}\")\n",
    "\n",
    "# Prediction function\n",
    "def prediction(x):\n",
    "    z1 = w1 * x + b1\n",
    "    h1 = relu(z1)\n",
    "\n",
    "    z2 = w2 * x + b2\n",
    "    h2 = relu(z2)\n",
    "\n",
    "    y_output = w3 * h1 + w4 * h2 + b3\n",
    "    return y_output\n",
    "\n",
    "# Example prediction\n",
    "print(\"\\nPrediction for input 9:\", prediction(9))\n"
   ]
  },
  {
   "cell_type": "code",
   "execution_count": 14,
   "id": "dd6ede89",
   "metadata": {},
   "outputs": [],
   "source": [
    "import tensorflow as tf\n",
    "import numpy as np"
   ]
  },
  {
   "cell_type": "code",
   "execution_count": 15,
   "id": "3af4e01d",
   "metadata": {},
   "outputs": [
    {
     "data": {
      "text/plain": [
       "[1, 2, 3, 4, 5]"
      ]
     },
     "execution_count": 15,
     "metadata": {},
     "output_type": "execute_result"
    }
   ],
   "source": [
    "input"
   ]
  },
  {
   "cell_type": "code",
   "execution_count": 16,
   "id": "c43dfda5",
   "metadata": {},
   "outputs": [
    {
     "data": {
      "text/plain": [
       "[2, 4, 6, 8, 10]"
      ]
     },
     "execution_count": 16,
     "metadata": {},
     "output_type": "execute_result"
    }
   ],
   "source": [
    "output"
   ]
  },
  {
   "cell_type": "code",
   "execution_count": 17,
   "id": "35dfdda4",
   "metadata": {},
   "outputs": [],
   "source": [
    "x = np.array(input, dtype=float)"
   ]
  },
  {
   "cell_type": "code",
   "execution_count": 18,
   "id": "b4cc857e",
   "metadata": {},
   "outputs": [],
   "source": [
    "y = np.array(output, dtype=float)"
   ]
  },
  {
   "cell_type": "code",
   "execution_count": null,
   "id": "7f30f185",
   "metadata": {},
   "outputs": [],
   "source": []
  }
 ],
 "metadata": {
  "kernelspec": {
   "display_name": "Python 3",
   "language": "python",
   "name": "python3"
  },
  "language_info": {
   "codemirror_mode": {
    "name": "ipython",
    "version": 3
   },
   "file_extension": ".py",
   "mimetype": "text/x-python",
   "name": "python",
   "nbconvert_exporter": "python",
   "pygments_lexer": "ipython3",
   "version": "3.10.0"
  }
 },
 "nbformat": 4,
 "nbformat_minor": 5
}
